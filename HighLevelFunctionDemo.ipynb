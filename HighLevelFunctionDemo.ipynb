{
 "cells": [
  {
   "cell_type": "code",
   "execution_count": 1,
   "metadata": {},
   "outputs": [],
   "source": [
    "#Importing the ITU-Rpy module\n",
    "import itur"
   ]
  },
  {
   "cell_type": "code",
   "execution_count": 2,
   "metadata": {},
   "outputs": [],
   "source": [
    "#Calling the high-level function\n",
    "#Location: El Segundo Aerospace Campus\n",
    "lat = 33.915335\n",
    "lon = -118.38257\n",
    "#Frequency: 20 GHz\n",
    "freq = 20.0\n",
    "#Elecation Angle: 45 Degrees\n",
    "ele = 45.0\n",
    "#Signal Availability: 99%\n",
    "availability = 99\n",
    "probability = 100 - availability\n",
    "#Antenna Diameter: 3 m\n",
    "D = 3.0\n",
    "#Polarization Angle: 45 Degrees\n",
    "tau = 45.0\n",
    "\n",
    "Ag, Ac, Ar, As, At = itur.atmospheric_attenuation_slant_path(lat, lon, freq, ele, probability, D,\n",
    "                                                             tau = tau, return_contributions = True)\n"
   ]
  },
  {
   "attachments": {
    "image.png": {
     "image/png": "[encoded data removed]"
    }
   },
   "cell_type": "markdown",
   "metadata": {},
   "source": [
    "It is important to note that the total atmospheric attenuation is not a simple sum of each of the attenuation components:\n",
    "![image.png](attachment:image.png)"
   ]
  },
  {
   "cell_type": "code",
   "execution_count": 3,
   "metadata": {},
   "outputs": [
    {
     "data": {
      "text/latex": [
       "$1.9407438 \\; \\mathrm{dB}$"
      ],
      "text/plain": [
       "<Quantity 1.9407438 dB>"
      ]
     },
     "execution_count": 3,
     "metadata": {},
     "output_type": "execute_result"
    }
   ],
   "source": [
    "#The Total Attenuation\n",
    "At"
   ]
  },
  {
   "cell_type": "code",
   "execution_count": 4,
   "metadata": {},
   "outputs": [
    {
     "data": {
      "text/latex": [
       "$0.85285658 \\; \\mathrm{dB}$"
      ],
      "text/plain": [
       "<Quantity 0.85285658 dB>"
      ]
     },
     "execution_count": 4,
     "metadata": {},
     "output_type": "execute_result"
    }
   ],
   "source": [
    "#The Gaseous Attenuation Component\n",
    "Ag"
   ]
  },
  {
   "cell_type": "code",
   "execution_count": 5,
   "metadata": {},
   "outputs": [
    {
     "data": {
      "text/latex": [
       "$0.24303542 \\; \\mathrm{dB}$"
      ],
      "text/plain": [
       "<Quantity 0.24303542 dB>"
      ]
     },
     "execution_count": 5,
     "metadata": {},
     "output_type": "execute_result"
    }
   ],
   "source": [
    "#The Cloud Attenuation Component\n",
    "Ac"
   ]
  },
  {
   "cell_type": "code",
   "execution_count": 6,
   "metadata": {},
   "outputs": [
    {
     "data": {
      "text/latex": [
       "$0.82786553 \\; \\mathrm{dB}$"
      ],
      "text/plain": [
       "<Quantity 0.82786553 dB>"
      ]
     },
     "execution_count": 6,
     "metadata": {},
     "output_type": "execute_result"
    }
   ],
   "source": [
    "#The Rain Attenuation Component\n",
    "Ar"
   ]
  },
  {
   "cell_type": "code",
   "execution_count": 7,
   "metadata": {},
   "outputs": [
    {
     "data": {
      "text/latex": [
       "$0.19149353 \\; \\mathrm{dB}$"
      ],
      "text/plain": [
       "<Quantity 0.19149353 dB>"
      ]
     },
     "execution_count": 7,
     "metadata": {},
     "output_type": "execute_result"
    }
   ],
   "source": [
    "#The Scintillation Attenuation Component\n",
    "As"
   ]
  },
  {
   "cell_type": "code",
   "execution_count": null,
   "metadata": {},
   "outputs": [],
   "source": []
  }
 ],
 "metadata": {
  "kernelspec": {
   "display_name": "Python 3",
   "language": "python",
   "name": "python3"
  },
  "language_info": {
   "codemirror_mode": {
    "name": "ipython",
    "version": 3
   },
   "file_extension": ".py",
   "mimetype": "text/x-python",
   "name": "python",
   "nbconvert_exporter": "python",
   "pygments_lexer": "ipython3",
   "version": "3.8.3"
  }
 },
 "nbformat": 4,
 "nbformat_minor": 4
}
