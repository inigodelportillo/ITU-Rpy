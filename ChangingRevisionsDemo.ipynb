{
 "cells": [
  {
   "cell_type": "code",
   "execution_count": 1,
   "metadata": {},
   "outputs": [],
   "source": [
    "#Import the ITU-Rpy Library\n",
    "import itur\n",
    "\n",
    "#Defining parameters\n",
    "#Location: O3b ground station in Hortolandia, Brazil\n",
    "lat = -22.8778\n",
    "lon = -47.2121\n",
    "#Frequency: 20 GHz\n",
    "f = 20.0 \n",
    "#Elecation Angle: 5 Degrees\n",
    "el = 5.0\n",
    "#Signal Availability: 1%\n",
    "availability = 99\n",
    "p = 100 - availability\n",
    "#Antenna Diameter: 3.0 m\n",
    "D= 3.0\n",
    "\n",
    "#Calculating required intermediate values\n",
    "hs = itur.topographic_altitude(lat, lon) #Altitude\n",
    "T = itur.surface_mean_temperature(lat, lon) #Surface Temperature\n",
    "P = itur.standard_pressure(hs) #Pressure\n",
    "v_t = itur.total_water_vapour_content(lat, lon, p, hs)#Water Vapor Content\n",
    "rho = itur.surface_water_vapour_density(lat, lon, p, hs)#Water Vapor Density"
   ]
  },
  {
   "cell_type": "code",
   "execution_count": 2,
   "metadata": {},
   "outputs": [
    {
     "name": "stdout",
     "output_type": "stream",
     "text": [
      "Gaseous Attenuation using Revision 12 is: 8.4584 dB\n"
     ]
    }
   ],
   "source": [
    "#Calculating the gaseous attenuation compnenent using the most recent document revision ITU-R P.676-12\n",
    "Ag_newest = Ag = itur.gaseous_attenuation_slant_path(f, el, rho, P, T, v_t, hs)\n",
    "At_newest = itur.atmospheric_attenuation_slant_path(lat, lon, f, el, p, D)\n",
    "print('Gaseous Attenuation using Revision 12 is: {:0.5g}'.format(Ag_newest))\n"
   ]
  },
  {
   "cell_type": "code",
   "execution_count": 3,
   "metadata": {},
   "outputs": [
    {
     "name": "stderr",
     "output_type": "stream",
     "text": [
      "WARNING:root:[Memory(location=C:\\Users\\MAW32652\\AppData\\Local\\Temp\\tmp9cq0hg2s\\joblib)]: Flushing completely the cache\n"
     ]
    },
    {
     "name": "stdout",
     "output_type": "stream",
     "text": [
      "Now you are using revision: ITU-R P.676-11\n"
     ]
    }
   ],
   "source": [
    "#Changing to the previous revision ITU-R P.676-11\n",
    "itur.models.itu676.change_version(11)\n",
    "print('Now you are using revision: ITU-R P.676-' + str(itur.models.itu676.get_version()))\n"
   ]
  },
  {
   "cell_type": "code",
   "execution_count": 4,
   "metadata": {},
   "outputs": [
    {
     "name": "stdout",
     "output_type": "stream",
     "text": [
      "Gaseous Attenuation using Revision 11 is: 6.3921 dB\n"
     ]
    }
   ],
   "source": [
    "#Calculating the gaseous attenuation component using the older revsion.\n",
    "Ag_older = itur.models.itu676.gaseous_attenuation_slant_path(f, el, rho, P, T)\n",
    "At_older = itur.atmospheric_attenuation_slant_path(lat, lon, f, el, p, D)\n",
    "print('Gaseous Attenuation using Revision 11 is: {:0.5g}'.format(Ag_older))"
   ]
  },
  {
   "cell_type": "code",
   "execution_count": 5,
   "metadata": {},
   "outputs": [
    {
     "name": "stdout",
     "output_type": "stream",
     "text": [
      "The difference between the gaseous attenuation component for the two revisions was: 2.0663 dB\n",
      "This correlates to a percent error of: 24.429 %\n"
     ]
    }
   ],
   "source": [
    "#Determing the difference from the calculations\n",
    "difference = Ag_newest - Ag_older\n",
    "percent_error = abs(difference) / Ag_newest\n",
    "\n",
    "print('The difference between the gaseous attenuation component for the two revisions was: {:0.5g}'.format(difference))\n",
    "print('This correlates to a percent error of: {:0.5g} %'.format(percent_error * 100))"
   ]
  },
  {
   "cell_type": "code",
   "execution_count": 6,
   "metadata": {},
   "outputs": [
    {
     "name": "stderr",
     "output_type": "stream",
     "text": [
      "WARNING:root:[Memory(location=C:\\Users\\MAW32652\\AppData\\Local\\Temp\\tmp9cq0hg2s\\joblib)]: Flushing completely the cache\n"
     ]
    },
    {
     "name": "stdout",
     "output_type": "stream",
     "text": [
      "Now you are using revision: ITU-R P.676-12\n"
     ]
    }
   ],
   "source": [
    "#Changing back to the newest revision ITU-R P.676-12\n",
    "itur.models.itu676.change_version(12)\n",
    "print('Now you are using revision: ITU-R P.676-' + str(itur.models.itu676.get_version()))"
   ]
  },
  {
   "cell_type": "code",
   "execution_count": null,
   "metadata": {},
   "outputs": [],
   "source": []
  }
 ],
 "metadata": {
  "kernelspec": {
   "display_name": "Python 3",
   "language": "python",
   "name": "python3"
  },
  "language_info": {
   "codemirror_mode": {
    "name": "ipython",
    "version": 3
   },
   "file_extension": ".py",
   "mimetype": "text/x-python",
   "name": "python",
   "nbconvert_exporter": "python",
   "pygments_lexer": "ipython3",
   "version": "3.8.3"
  }
 },
 "nbformat": 4,
 "nbformat_minor": 4
}
