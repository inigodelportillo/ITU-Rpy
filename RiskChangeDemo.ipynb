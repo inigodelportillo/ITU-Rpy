{
 "cells": [
  {
   "cell_type": "code",
   "execution_count": 1,
   "metadata": {},
   "outputs": [
    {
     "name": "stdout",
     "output_type": "stream",
     "text": [
      "Total Attenuation using a risk of 50% is: 30.639 dB\n"
     ]
    }
   ],
   "source": [
    "#Import the ITU-Rpy Library\n",
    "import itur\n",
    "from itur.models.itu678 import p_lt_from_risk\n",
    "\n",
    "#Defining parameters\n",
    "#Location: O3b ground station in Hortolandia, Brazil\n",
    "lat = -22.8778\n",
    "lon = -47.2121\n",
    "#Frequency: 20 GHz\n",
    "f = 20.0 \n",
    "#Elevation Angle: 5 Degrees\n",
    "el = 5.0\n",
    "#Probability of Exceedence for any given year: 1%\n",
    "availability_yearly = 99\n",
    "p_yearly  = 100 - availability_yearly\n",
    "\n",
    "#Antenna Diameter: 3.0 m\n",
    "D= 3.0\n",
    "#Risk: #10%\n",
    "risk = 10 \n",
    "\n",
    "#Calculating the atmospheric attenuation at the default risk of 50%\n",
    "At_at_50 = itur.atmospheric_attenuation_slant_path(lat, lon, f, el, p_yearly, D)\n",
    "print('Total Attenuation using a risk of 50% is: {:0.5g}'.format(At_at_50))"
   ]
  },
  {
   "cell_type": "code",
   "execution_count": 2,
   "metadata": {},
   "outputs": [
    {
     "name": "stdout",
     "output_type": "stream",
     "text": [
      "The computed value for p_lt is: 0.6442\n"
     ]
    }
   ],
   "source": [
    "# Atmospheric attenuation at different risk levels is calculated by determining a new probability of exceedence based on the\n",
    "#given parameters. This value is called p longterm. This p longterm is then passed into the atmospheric attenuation \n",
    "#calculation instead of the yearly probability of exceedence. \n",
    "\n",
    "# Determing p longterm\n",
    "p_lt = p_lt_from_risk(lat, lon, p_yearly, risk) \n",
    "print('The computed value for p_lt is: {:0.4g}'.format(p_lt))"
   ]
  },
  {
   "cell_type": "code",
   "execution_count": 3,
   "metadata": {},
   "outputs": [
    {
     "name": "stdout",
     "output_type": "stream",
     "text": [
      "Total Attenuation using a risk of 10% is: 36.825 dB\n"
     ]
    }
   ],
   "source": [
    "# Passing in p_lt in for p to determine the new atmopsheric attenuation at the specified risk)\n",
    "At_at_10 = itur.atmospheric_attenuation_slant_path(lat, lon, f, el, p_lt, D)\n",
    "print('Total Attenuation using a risk of 10% is: {:0.5g}'.format(At_at_10))"
   ]
  },
  {
   "cell_type": "code",
   "execution_count": 4,
   "metadata": {},
   "outputs": [
    {
     "name": "stdout",
     "output_type": "stream",
     "text": [
      "The difference between a risk of 50% and a risk of 10% was: -6.1853 dB\n"
     ]
    }
   ],
   "source": [
    "#Determing the difference from the calculations\n",
    "difference = At_at_50 - At_at_10\n",
    "\n",
    "print('The difference between a risk of 50% and a risk of 10% was: {:0.5g}'.format(difference))"
   ]
  }
 ],
 "metadata": {
  "kernelspec": {
   "display_name": "Python 3",
   "language": "python",
   "name": "python3"
  },
  "language_info": {
   "codemirror_mode": {
    "name": "ipython",
    "version": 3
   },
   "file_extension": ".py",
   "mimetype": "text/x-python",
   "name": "python",
   "nbconvert_exporter": "python",
   "pygments_lexer": "ipython3",
   "version": "3.8.3"
  }
 },
 "nbformat": 4,
 "nbformat_minor": 4
}
