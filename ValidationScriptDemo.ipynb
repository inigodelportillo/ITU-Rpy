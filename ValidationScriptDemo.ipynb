{
 "cells": [
  {
   "cell_type": "code",
   "execution_count": 1,
   "metadata": {},
   "outputs": [],
   "source": [
    "from itur.validation.validation_scripts.cloud_att_intermediate_values import cloud_attenuation_validation"
   ]
  },
  {
   "cell_type": "code",
   "execution_count": 2,
   "metadata": {},
   "outputs": [
    {
     "name": "stdout",
     "output_type": "stream",
     "text": [
      "\n",
      "Epsilon prime: \n",
      "Average Error: -1.23e-14\n",
      "Max Error: 1.78e-14\n",
      "Average Percent Error: 8.01e-16\n",
      "\n",
      "Epsilon prime prime: \n",
      "Average Error: 5.13e-15\n",
      "Max Error: 1.78e-14\n",
      "Average Percent Error: -2.79e-16\n",
      "\n",
      "Eta: \n",
      "Average Error: 5.99e-17\n",
      "Max Error: 3.33e-16\n",
      "Average Percent Error: -3.26e-17\n",
      "\n",
      "Note: Kl is a function of epsilon prime, epsilon prime prime, and eta\n",
      "\n",
      "Kl: \n",
      "Average Error: 4.04e-16\n",
      "Max Error: 4.72e-16\n",
      "Average Percent Error: -1.51e-15\n",
      "\n",
      "Note: L_red is not related to Kl\n",
      "\n",
      "L_red: \n",
      "Average Error: -1.87e-16\n",
      "Max Error: 4.88e-15\n",
      "Average Percent Error: 6.14e-18\n"
     ]
    }
   ],
   "source": [
    "cloud_attenuation_validation()"
   ]
  },
  {
   "cell_type": "code",
   "execution_count": null,
   "metadata": {},
   "outputs": [],
   "source": []
  }
 ],
 "metadata": {
  "kernelspec": {
   "display_name": "Python 3",
   "language": "python",
   "name": "python3"
  },
  "language_info": {
   "codemirror_mode": {
    "name": "ipython",
    "version": 3
   },
   "file_extension": ".py",
   "mimetype": "text/x-python",
   "name": "python",
   "nbconvert_exporter": "python",
   "pygments_lexer": "ipython3",
   "version": "3.8.3"
  }
 },
 "nbformat": 4,
 "nbformat_minor": 4
}
